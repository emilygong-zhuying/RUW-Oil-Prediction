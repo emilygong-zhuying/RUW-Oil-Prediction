{
 "cells": [
  {
   "cell_type": "code",
   "execution_count": 6,
   "metadata": {},
   "outputs": [],
   "source": [
    "import requests as req\n",
    "import time\n",
    "import pandas as pd"
   ]
  },
  {
   "cell_type": "markdown",
   "metadata": {},
   "source": [
    "# New York Times\n",
    "\n",
    "The public API unfortunately does not allow full access to the articles, but we have title, snippets, and titles of the articles. There are 10 articles per page. (For some reason the API doesn't allow me to go beyond 200 pages.) According to the API, there are two rate limits per API: 4,000 requests per day and 10 requests per minute. (You should sleep 6 seconds between calls to avoid hitting the per minute rate limit.)"
   ]
  },
  {
   "cell_type": "code",
   "execution_count": null,
   "metadata": {
    "scrolled": true
   },
   "outputs": [],
   "source": [
    "API_KEY='INSERT_YOUR_OWN_API_KEY'\n",
    "TOPIC='russia+and+ukraine+war'\n",
    "df = pd.DataFrame()\n",
    "for i in range(1,201):\n",
    "    try: \n",
    "        url='https://api.nytimes.com/svc/search/v2/articlesearch.json?q='+TOPIC+'&api-key='+API_KEY+'&page='+str(i)\n",
    "        response = req.get(url).json()\n",
    "\n",
    "        # Extract the necessary fields from the response.\n",
    "        docs = response['response']['docs']\n",
    "        temp_df = pd.DataFrame(data=docs)\n",
    "        df = df.append(temp_df)\n",
    "\n",
    "        # Done to avoid hitting the API request limit.\n",
    "        time.sleep(6)\n",
    "    except Exception as e:\n",
    "        print(\"error at i = \", i)\n",
    "        pass\n",
    "df = df.reset_index(drop=True)\n",
    "df.to_csv('NYT_articles.csv')"
   ]
  },
  {
   "cell_type": "markdown",
   "metadata": {},
   "source": [
    "# Guardian"
   ]
  },
  {
   "cell_type": "code",
   "execution_count": 3,
   "metadata": {},
   "outputs": [],
   "source": [
    "apikey = 'INSERT_YOUR_OWN_API_KEY'\n",
    "query = \"russian%20and%20ukraine%20war\"\n",
    "from_date = \"2022-02-01\"\n",
    "\n",
    "df = pd.DataFrame()\n",
    "# 716 pages in total\n",
    "for i in range(1, 717):\n",
    "    try:\n",
    "        page = str(i)\n",
    "        query_url = f\"https://content.guardianapis.com/search?\" \\\n",
    "                    f\"api-key={apikey}\" \\\n",
    "                    f\"&from-date={from_date}\" \\\n",
    "                    f\"&page={page}\" \\\n",
    "                    f\"&q={query}\"\n",
    "        docs = req.get(query_url).json()['response']['results']\n",
    "        temp_df = pd.DataFrame(data=docs)\n",
    "        df = df.append(temp_df)\n",
    "        time.sleep(6)\n",
    "    except Exception as e:\n",
    "        print(\"error at i = \", i)\n",
    "        pass\n",
    "df = df.reset_index(drop=True)\n",
    "df.to_csv('Guardian_articles.csv')"
   ]
  },
  {
   "cell_type": "code",
   "execution_count": 31,
   "metadata": {},
   "outputs": [
    {
     "name": "stdout",
     "output_type": "stream",
     "text": [
      "(7160, 12)\n",
      "(2000, 22)\n"
     ]
    }
   ],
   "source": [
    "guardian = pd.read_csv('Guardian_articles.csv')\n",
    "nyt = pd.read_csv('NYT_articles.csv')\n",
    "\n",
    "print(guardian.shape)\n",
    "print(nyt.shape)"
   ]
  },
  {
   "cell_type": "markdown",
   "metadata": {},
   "source": [
    "# References\n",
    "* https://medium.com/codex/web-scraping-the-new-york-times-articles-with-python-part-i-e2d6fc02d4e0\n",
    "* https://towardsdatascience.com/scraping-news-and-articles-from-public-apis-with-python-be84521d85b9\n",
    "* https://open-platform.theguardian.com/documentation/"
   ]
  }
 ],
 "metadata": {
  "kernelspec": {
   "display_name": "Python 3",
   "language": "python",
   "name": "python3"
  },
  "language_info": {
   "codemirror_mode": {
    "name": "ipython",
    "version": 3
   },
   "file_extension": ".py",
   "mimetype": "text/x-python",
   "name": "python",
   "nbconvert_exporter": "python",
   "pygments_lexer": "ipython3",
   "version": "3.6.9"
  }
 },
 "nbformat": 4,
 "nbformat_minor": 5
}
