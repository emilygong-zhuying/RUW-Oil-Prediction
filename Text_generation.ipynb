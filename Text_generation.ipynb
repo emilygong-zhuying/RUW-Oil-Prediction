{
 "cells": [
  {
   "cell_type": "code",
   "execution_count": 79,
   "id": "2c090850",
   "metadata": {},
   "outputs": [],
   "source": [
    "import torch\n",
    "import pandas as pd\n",
    "import os"
   ]
  },
  {
   "cell_type": "code",
   "execution_count": 80,
   "id": "46e35b39",
   "metadata": {},
   "outputs": [],
   "source": [
    "path = \"/Users/emilygong/Desktop/RUW-Oil-Prediction/data\"\n",
    "os.chdir(path)"
   ]
  },
  {
   "cell_type": "code",
   "execution_count": 116,
   "id": "141af079",
   "metadata": {},
   "outputs": [
    {
     "data": {
      "text/html": [
       "<div>\n",
       "<style scoped>\n",
       "    .dataframe tbody tr th:only-of-type {\n",
       "        vertical-align: middle;\n",
       "    }\n",
       "\n",
       "    .dataframe tbody tr th {\n",
       "        vertical-align: top;\n",
       "    }\n",
       "\n",
       "    .dataframe thead th {\n",
       "        text-align: right;\n",
       "    }\n",
       "</style>\n",
       "<table border=\"1\" class=\"dataframe\">\n",
       "  <thead>\n",
       "    <tr style=\"text-align: right;\">\n",
       "      <th></th>\n",
       "      <th>webPublicationDate</th>\n",
       "      <th>webTitle</th>\n",
       "    </tr>\n",
       "  </thead>\n",
       "  <tbody>\n",
       "    <tr>\n",
       "      <th>0</th>\n",
       "      <td>2022-10-22T01:24:17Z</td>\n",
       "      <td>Russian and US defence ministers discuss Ukrai...</td>\n",
       "    </tr>\n",
       "    <tr>\n",
       "      <th>1</th>\n",
       "      <td>2022-10-10T16:07:42Z</td>\n",
       "      <td>Russian pop star who criticised Ukraine war sa...</td>\n",
       "    </tr>\n",
       "    <tr>\n",
       "      <th>2</th>\n",
       "      <td>2022-08-26T17:50:05Z</td>\n",
       "      <td>Russia-Ukraine war: EU to hold urgent talks ov...</td>\n",
       "    </tr>\n",
       "    <tr>\n",
       "      <th>3</th>\n",
       "      <td>2022-10-15T18:12:08Z</td>\n",
       "      <td>Russia-Ukraine war live: ‘endemic corruption a...</td>\n",
       "    </tr>\n",
       "    <tr>\n",
       "      <th>4</th>\n",
       "      <td>2022-09-05T18:00:05Z</td>\n",
       "      <td>Russia-Ukraine war: Ukraine says it has pushed...</td>\n",
       "    </tr>\n",
       "    <tr>\n",
       "      <th>...</th>\n",
       "      <td>...</td>\n",
       "      <td>...</td>\n",
       "    </tr>\n",
       "    <tr>\n",
       "      <th>7155</th>\n",
       "      <td>2022-05-18T20:10:06Z</td>\n",
       "      <td>White House braced for North Korean nuclear te...</td>\n",
       "    </tr>\n",
       "    <tr>\n",
       "      <th>7156</th>\n",
       "      <td>2022-09-01T16:03:27Z</td>\n",
       "      <td>More rail strikes announced for September afte...</td>\n",
       "    </tr>\n",
       "    <tr>\n",
       "      <th>7157</th>\n",
       "      <td>2022-05-25T20:09:37Z</td>\n",
       "      <td>Georgia primaries deliver blow to Trump’s grip...</td>\n",
       "    </tr>\n",
       "    <tr>\n",
       "      <th>7158</th>\n",
       "      <td>2022-06-06T08:07:57Z</td>\n",
       "      <td>Island in the energy price storm: renewables h...</td>\n",
       "    </tr>\n",
       "    <tr>\n",
       "      <th>7159</th>\n",
       "      <td>2022-02-08T18:23:42Z</td>\n",
       "      <td>‘It’s all a bit cynical’: the politicians behi...</td>\n",
       "    </tr>\n",
       "  </tbody>\n",
       "</table>\n",
       "<p>7160 rows × 2 columns</p>\n",
       "</div>"
      ],
      "text/plain": [
       "        webPublicationDate                                           webTitle\n",
       "0     2022-10-22T01:24:17Z  Russian and US defence ministers discuss Ukrai...\n",
       "1     2022-10-10T16:07:42Z  Russian pop star who criticised Ukraine war sa...\n",
       "2     2022-08-26T17:50:05Z  Russia-Ukraine war: EU to hold urgent talks ov...\n",
       "3     2022-10-15T18:12:08Z  Russia-Ukraine war live: ‘endemic corruption a...\n",
       "4     2022-09-05T18:00:05Z  Russia-Ukraine war: Ukraine says it has pushed...\n",
       "...                    ...                                                ...\n",
       "7155  2022-05-18T20:10:06Z  White House braced for North Korean nuclear te...\n",
       "7156  2022-09-01T16:03:27Z  More rail strikes announced for September afte...\n",
       "7157  2022-05-25T20:09:37Z  Georgia primaries deliver blow to Trump’s grip...\n",
       "7158  2022-06-06T08:07:57Z  Island in the energy price storm: renewables h...\n",
       "7159  2022-02-08T18:23:42Z  ‘It’s all a bit cynical’: the politicians behi...\n",
       "\n",
       "[7160 rows x 2 columns]"
      ]
     },
     "execution_count": 116,
     "metadata": {},
     "output_type": "execute_result"
    }
   ],
   "source": [
    "guardian = pd.read_csv(\"Guardian_articles.csv\")\n",
    "guardian = guardian[['webPublicationDate', 'webTitle']]\n",
    "nyt = pd.read_csv(\"NYT_articles.csv\")\n",
    "nyt = nyt[['headline', 'pub_date']]\n",
    "# nyt.iat[19,0]\n",
    "guardian"
   ]
  },
  {
   "cell_type": "code",
   "execution_count": 90,
   "id": "112eb252",
   "metadata": {},
   "outputs": [],
   "source": [
    "def clean(string):\n",
    "    main = string.find(\"'main':\")\n",
    "    comma = string.find(\"',\")\n",
    "    return string[main+9:comma]"
   ]
  },
  {
   "cell_type": "code",
   "execution_count": 91,
   "id": "beb87f94",
   "metadata": {},
   "outputs": [],
   "source": [
    "nyt['headline'] = nyt['headline'].apply(clean)"
   ]
  },
  {
   "cell_type": "code",
   "execution_count": 95,
   "id": "5df18a71",
   "metadata": {},
   "outputs": [
    {
     "data": {
      "text/plain": [
       "'Erdogan says Russia should return all captured Ukrainian territory.'"
      ]
     },
     "execution_count": 95,
     "metadata": {},
     "output_type": "execute_result"
    }
   ],
   "source": [
    "ha = nyt.iat[60,0]\n",
    "ha"
   ]
  },
  {
   "cell_type": "code",
   "execution_count": 108,
   "id": "566ec0d8",
   "metadata": {},
   "outputs": [
    {
     "data": {
      "text/plain": [
       "'Erdogan says Russia should return all captured Ukrainian territory. He said on Friday the Russian military carried out an operation that killed dozens of armed men and wounded five others.\\n\\nRussian military spokesman Igor Konas'"
      ]
     },
     "execution_count": 108,
     "metadata": {},
     "output_type": "execute_result"
    }
   ],
   "source": [
    "from transformers import pipeline\n",
    "\n",
    "classifier = pipeline(\"text-generation\", model = \"gpt2\", pad_token_id = 50256)\n",
    "output = classifier(ha, max_new_tokens = 30)[0]['generated_text']\n",
    "output\n"
   ]
  },
  {
   "cell_type": "code",
   "execution_count": 112,
   "id": "d3e0c45d",
   "metadata": {},
   "outputs": [
    {
     "data": {
      "text/plain": [
       "{'label': 'NEGATIVE', 'score': 0.9315783977508545}"
      ]
     },
     "execution_count": 112,
     "metadata": {},
     "output_type": "execute_result"
    }
   ],
   "source": [
    "\n",
    "original = sentiment(ha)\n",
    "# new = sentiment(output)\n",
    "# print(original)\n",
    "# print(new)\n",
    "original[0]['label']\n",
    "original[0]['score']"
   ]
  },
  {
   "cell_type": "code",
   "execution_count": 161,
   "id": "bb37c133",
   "metadata": {},
   "outputs": [],
   "source": [
    "sentiment = pipeline(\"sentiment-analysis\", model = \"distilbert-base-uncased-finetuned-sst-2-english\")\n",
    "classifier = pipeline(\"text-classification\", model='bhadresh-savani/distilbert-base-uncased-emotion', top_k=None)"
   ]
  },
  {
   "cell_type": "code",
   "execution_count": 163,
   "id": "d71c3bd3",
   "metadata": {},
   "outputs": [],
   "source": [
    "# guardian['sentiment'] = guardian['webTitle'].apply(sentiment)\n",
    "titles = guardian['webTitle'].to_list()\n",
    "\n",
    "label = []\n",
    "score = []\n",
    "\n",
    "anger = []\n",
    "fear = []\n",
    "joy = []\n",
    "sadness = []\n",
    "love = []\n",
    "surprise = []\n",
    "\n",
    "for title in titles:\n",
    "    result = sentiment(title)\n",
    "    label.append(result[0]['label'])\n",
    "    score.append(result[0]['score'])\n",
    "for title in titles:\n",
    "    result = classifier(title)\n",
    "    anger.append(result[0][0]['score'])\n",
    "    fear.append(result[0][1]['score'])\n",
    "    joy.append(result[0][2]['score'])\n",
    "    sadness.append(result[0][3]['score'])\n",
    "    love.append(result[0][4]['score'])\n",
    "    surprise.append(result[0][5]['score'])"
   ]
  },
  {
   "cell_type": "code",
   "execution_count": 164,
   "id": "a96a668a",
   "metadata": {},
   "outputs": [],
   "source": [
    "guardian['label'] = label\n",
    "guardian['score'] = score\n",
    "\n",
    "guardian['anger'] = anger\n",
    "guardian['fear'] = fear\n",
    "guardian['joy'] = joy\n",
    "guardian['sadness'] = sadness\n",
    "guardian['love'] = love\n",
    "guardian['surprise'] = surprise"
   ]
  },
  {
   "cell_type": "code",
   "execution_count": 169,
   "id": "2c368943",
   "metadata": {},
   "outputs": [
    {
     "data": {
      "text/plain": [
       "str"
      ]
     },
     "execution_count": 169,
     "metadata": {},
     "output_type": "execute_result"
    }
   ],
   "source": [
    "guardian.to_csv(\"guardian_sentiment.csv\")"
   ]
  },
  {
   "cell_type": "code",
   "execution_count": null,
   "id": "6092b544",
   "metadata": {},
   "outputs": [],
   "source": []
  }
 ],
 "metadata": {
  "kernelspec": {
   "display_name": "torch",
   "language": "python",
   "name": "torch"
  },
  "language_info": {
   "codemirror_mode": {
    "name": "ipython",
    "version": 3
   },
   "file_extension": ".py",
   "mimetype": "text/x-python",
   "name": "python",
   "nbconvert_exporter": "python",
   "pygments_lexer": "ipython3",
   "version": "3.10.8"
  }
 },
 "nbformat": 4,
 "nbformat_minor": 5
}
