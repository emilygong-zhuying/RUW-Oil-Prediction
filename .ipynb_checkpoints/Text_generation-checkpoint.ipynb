{
 "cells": [
  {
   "cell_type": "code",
   "execution_count": 8,
   "id": "2c090850",
   "metadata": {},
   "outputs": [],
   "source": [
    "import torch\n",
    "import pandas as pd\n",
    "import os"
   ]
  },
  {
   "cell_type": "code",
   "execution_count": 13,
   "id": "46e35b39",
   "metadata": {},
   "outputs": [],
   "source": [
    "path = \"/Users/emilygong/Desktop/RUW-Oil-Prediction/data\"\n",
    "os.chdir(path)"
   ]
  },
  {
   "cell_type": "code",
   "execution_count": 53,
   "id": "141af079",
   "metadata": {},
   "outputs": [
    {
     "data": {
      "text/plain": [
       "'Flashmob orchestra in Trafalgar Square plays in solidarity with Ukraine'"
      ]
     },
     "execution_count": 53,
     "metadata": {},
     "output_type": "execute_result"
    }
   ],
   "source": [
    "guardian = pd.read_csv(\"Guardian_articles.csv\")\n",
    "guardian = guardian[['webPublicationDate', 'webTitle']]\n",
    "nyt = pd.read_csv(\"NYT_articles.csv\")\n",
    "nyt = nyt[['headline', 'pub_date']]\n",
    "ha = guardian.iat[1999,1]\n",
    "ha"
   ]
  },
  {
   "cell_type": "code",
   "execution_count": 47,
   "id": "112eb252",
   "metadata": {},
   "outputs": [],
   "source": [
    "def clean(string):\n",
    "    colon = string.find(\":\")\n",
    "    comma = string.find(\"',\")\n",
    "    return string[colon+3:comma-1]"
   ]
  },
  {
   "cell_type": "code",
   "execution_count": 48,
   "id": "beb87f94",
   "metadata": {},
   "outputs": [
    {
     "data": {
      "text/plain": [
       "'RUSSIA REPORTED BOLSTERING LINE5; Said to Be Increasing Forces in Ukraine, Poland and Estonia Against Reich AXIS ANNOYANCE IS SEEN Moscow Is Said to Have Told Nazis Bombers in the South Will \\'Spray Wheat Crops\\'\", \\'kicker\\': None, \\'content_kicker\\': None, \\'print_headline\\': \"RUSSIA REPORTED BOLSTERING LINE5; Said to Be Increasing Forces in Ukraine, Poland and Estonia Against Reich AXIS ANNOYANCE IS SEEN Moscow Is Said to Have Told Nazis Bombers in the South Will \\'Spray Wheat Crops\\'\", \\'name\\': None, \\'seo\\': None, \\'sub\\': Non'"
      ]
     },
     "execution_count": 48,
     "metadata": {},
     "output_type": "execute_result"
    }
   ],
   "source": [
    "clean(ha)"
   ]
  },
  {
   "cell_type": "code",
   "execution_count": 63,
   "id": "566ec0d8",
   "metadata": {},
   "outputs": [
    {
     "name": "stderr",
     "output_type": "stream",
     "text": [
      "Setting `pad_token_id` to `eos_token_id`:50256 for open-end generation.\n"
     ]
    },
    {
     "data": {
      "text/plain": [
       "'Flashmob orchestra in Trafalgar Square plays in solidarity with Ukraine on September 10, 2016 (AFP Photo/Dmitry Kolesnikov)\\n\\n(Photo: Reuters)\\n\\nUkraine\\'s National Anti-Crime Commission (NAACP) on Sunday questioned the president\\'s \"tearsome\" comments when he said Ukraine\\'s armed forces should be forced to provide more troops to troops in eastern Ukraine because of increased armed conflict in the country.\\n\\nIn an interview with an audience of over 1,000 people, Naftogaz deputy president Oleksandr'"
      ]
     },
     "execution_count": 63,
     "metadata": {},
     "output_type": "execute_result"
    }
   ],
   "source": [
    "from transformers import pipeline\n",
    "\n",
    "classifier = pipeline(\"text-generation\", model = \"gpt2\")\n",
    "output = classifier(ha, max_new_tokens = 100)[0]['generated_text']\n",
    "output"
   ]
  },
  {
   "cell_type": "code",
   "execution_count": 64,
   "id": "d3e0c45d",
   "metadata": {},
   "outputs": [
    {
     "name": "stdout",
     "output_type": "stream",
     "text": [
      "[{'label': 'POSITIVE', 'score': 0.9960684776306152}]\n",
      "[{'label': 'NEGATIVE', 'score': 0.9613338708877563}]\n"
     ]
    }
   ],
   "source": [
    "sentiment = pipeline(\"sentiment-analysis\", model = \"distilbert-base-uncased-finetuned-sst-2-english\")\n",
    "original = sentiment(ha)\n",
    "new = sentiment(output)\n",
    "print(original)\n",
    "print(new)"
   ]
  },
  {
   "cell_type": "code",
   "execution_count": null,
   "id": "34ab38ed",
   "metadata": {},
   "outputs": [],
   "source": []
  }
 ],
 "metadata": {
  "kernelspec": {
   "display_name": "torch",
   "language": "python",
   "name": "torch"
  },
  "language_info": {
   "codemirror_mode": {
    "name": "ipython",
    "version": 3
   },
   "file_extension": ".py",
   "mimetype": "text/x-python",
   "name": "python",
   "nbconvert_exporter": "python",
   "pygments_lexer": "ipython3",
   "version": "3.10.8"
  }
 },
 "nbformat": 4,
 "nbformat_minor": 5
}
